{
  "nbformat": 4,
  "nbformat_minor": 0,
  "metadata": {
    "colab": {
      "name": "03neural_network_keras_tensrflow.ipynb",
      "provenance": [],
      "collapsed_sections": []
    },
    "kernelspec": {
      "name": "python3",
      "display_name": "Python 3"
    },
    "language_info": {
      "name": "python"
    }
  },
  "cells": [
    {
      "cell_type": "code",
      "metadata": {
        "id": "7Zn34_H83PKt"
      },
      "source": [
        "import tensorflow as tf\n",
        "from tensorflow import keras\n",
        "from tensorflow.keras import layers"
      ],
      "execution_count": 1,
      "outputs": []
    },
    {
      "cell_type": "code",
      "metadata": {
        "colab": {
          "base_uri": "https://localhost:8080/"
        },
        "id": "e6kk_5y94DU8",
        "outputId": "4edc9a22-8cb0-46ea-f1d5-fce6f51484cf"
      },
      "source": [
        "print(tf.__version__)"
      ],
      "execution_count": 2,
      "outputs": [
        {
          "output_type": "stream",
          "text": [
            "2.4.1\n"
          ],
          "name": "stdout"
        }
      ]
    },
    {
      "cell_type": "code",
      "metadata": {
        "id": "9i3a1WK34Jf9"
      },
      "source": [
        "from sklearn.model_selection import train_test_split"
      ],
      "execution_count": 3,
      "outputs": []
    },
    {
      "cell_type": "code",
      "metadata": {
        "id": "l_EAsIqM4fA-"
      },
      "source": [
        "from sklearn.preprocessing import StandardScaler"
      ],
      "execution_count": 4,
      "outputs": []
    },
    {
      "cell_type": "code",
      "metadata": {
        "id": "3-LB07tF4qJG"
      },
      "source": [
        "from sklearn.datasets import fetch_california_housing"
      ],
      "execution_count": 5,
      "outputs": []
    },
    {
      "cell_type": "code",
      "metadata": {
        "colab": {
          "base_uri": "https://localhost:8080/"
        },
        "id": "CVDA6wKZ5uvv",
        "outputId": "9707e03e-66c2-4898-95d4-bcc12ef04b36"
      },
      "source": [
        "df= fetch_california_housing()"
      ],
      "execution_count": 6,
      "outputs": [
        {
          "output_type": "stream",
          "text": [
            "Downloading Cal. housing from https://ndownloader.figshare.com/files/5976036 to /root/scikit_learn_data\n"
          ],
          "name": "stderr"
        }
      ]
    },
    {
      "cell_type": "code",
      "metadata": {
        "colab": {
          "base_uri": "https://localhost:8080/"
        },
        "id": "d0uZHooj55kS",
        "outputId": "37f88288-d8cc-49d7-cf51-0b26b62307c8"
      },
      "source": [
        "df"
      ],
      "execution_count": 7,
      "outputs": [
        {
          "output_type": "execute_result",
          "data": {
            "text/plain": [
              "{'DESCR': '.. _california_housing_dataset:\\n\\nCalifornia Housing dataset\\n--------------------------\\n\\n**Data Set Characteristics:**\\n\\n    :Number of Instances: 20640\\n\\n    :Number of Attributes: 8 numeric, predictive attributes and the target\\n\\n    :Attribute Information:\\n        - MedInc        median income in block\\n        - HouseAge      median house age in block\\n        - AveRooms      average number of rooms\\n        - AveBedrms     average number of bedrooms\\n        - Population    block population\\n        - AveOccup      average house occupancy\\n        - Latitude      house block latitude\\n        - Longitude     house block longitude\\n\\n    :Missing Attribute Values: None\\n\\nThis dataset was obtained from the StatLib repository.\\nhttp://lib.stat.cmu.edu/datasets/\\n\\nThe target variable is the median house value for California districts.\\n\\nThis dataset was derived from the 1990 U.S. census, using one row per census\\nblock group. A block group is the smallest geographical unit for which the U.S.\\nCensus Bureau publishes sample data (a block group typically has a population\\nof 600 to 3,000 people).\\n\\nIt can be downloaded/loaded using the\\n:func:`sklearn.datasets.fetch_california_housing` function.\\n\\n.. topic:: References\\n\\n    - Pace, R. Kelley and Ronald Barry, Sparse Spatial Autoregressions,\\n      Statistics and Probability Letters, 33 (1997) 291-297\\n',\n",
              " 'data': array([[   8.3252    ,   41.        ,    6.98412698, ...,    2.55555556,\n",
              "           37.88      , -122.23      ],\n",
              "        [   8.3014    ,   21.        ,    6.23813708, ...,    2.10984183,\n",
              "           37.86      , -122.22      ],\n",
              "        [   7.2574    ,   52.        ,    8.28813559, ...,    2.80225989,\n",
              "           37.85      , -122.24      ],\n",
              "        ...,\n",
              "        [   1.7       ,   17.        ,    5.20554273, ...,    2.3256351 ,\n",
              "           39.43      , -121.22      ],\n",
              "        [   1.8672    ,   18.        ,    5.32951289, ...,    2.12320917,\n",
              "           39.43      , -121.32      ],\n",
              "        [   2.3886    ,   16.        ,    5.25471698, ...,    2.61698113,\n",
              "           39.37      , -121.24      ]]),\n",
              " 'feature_names': ['MedInc',\n",
              "  'HouseAge',\n",
              "  'AveRooms',\n",
              "  'AveBedrms',\n",
              "  'Population',\n",
              "  'AveOccup',\n",
              "  'Latitude',\n",
              "  'Longitude'],\n",
              " 'target': array([4.526, 3.585, 3.521, ..., 0.923, 0.847, 0.894])}"
            ]
          },
          "metadata": {
            "tags": []
          },
          "execution_count": 7
        }
      ]
    },
    {
      "cell_type": "code",
      "metadata": {
        "id": "HBFI-kTj59tk"
      },
      "source": [
        "X_train_full,X_test,y_train_full,y_test =train_test_split(df.data,df.target,test_size=0.2)"
      ],
      "execution_count": 8,
      "outputs": []
    },
    {
      "cell_type": "code",
      "metadata": {
        "colab": {
          "base_uri": "https://localhost:8080/"
        },
        "id": "k77ueUY27MQJ",
        "outputId": "08e31433-aa23-4ab7-ab82-86c42b64be1e"
      },
      "source": [
        "X_train_full"
      ],
      "execution_count": 9,
      "outputs": [
        {
          "output_type": "execute_result",
          "data": {
            "text/plain": [
              "array([[   6.6104    ,   15.        ,    7.34070221, ...,    3.02210663,\n",
              "          38.5       , -122.71      ],\n",
              "       [   4.2708    ,   27.        ,    6.28954424, ...,    2.96246649,\n",
              "          32.83      , -117.18      ],\n",
              "       [   2.7321    ,   28.        ,    5.04326923, ...,    3.38942308,\n",
              "          36.85      , -121.79      ],\n",
              "       ...,\n",
              "       [   5.5524    ,   21.        ,    6.15664557, ...,    3.11392405,\n",
              "          38.11      , -122.65      ],\n",
              "       [   4.8098    ,   29.        ,    5.06748466, ...,    2.55214724,\n",
              "          33.64      , -117.91      ],\n",
              "       [   3.75      ,   16.        ,    5.59791667, ...,    3.12916667,\n",
              "          32.56      , -117.1       ]])"
            ]
          },
          "metadata": {
            "tags": []
          },
          "execution_count": 9
        }
      ]
    },
    {
      "cell_type": "code",
      "metadata": {
        "id": "O2c6vY_S7OsB"
      },
      "source": [
        "X_train,X_valid,y_train,y_valid =train_test_split(X_train_full,y_train_full,test_size=0.1)"
      ],
      "execution_count": 10,
      "outputs": []
    },
    {
      "cell_type": "code",
      "metadata": {
        "colab": {
          "base_uri": "https://localhost:8080/"
        },
        "id": "lXnSu1y47yVm",
        "outputId": "1f8b6c5a-be6d-4cbc-dbc1-36ff4d4cfef0"
      },
      "source": [
        "X_train"
      ],
      "execution_count": 11,
      "outputs": [
        {
          "output_type": "execute_result",
          "data": {
            "text/plain": [
              "array([[   5.3559    ,   36.        ,    5.66666667, ...,    3.20657277,\n",
              "          34.07      , -117.93      ],\n",
              "       [   3.7566    ,   32.        ,    5.45338983, ...,    5.52754237,\n",
              "          34.28      , -118.41      ],\n",
              "       [   1.8438    ,   32.        ,    5.13981763, ...,    4.42857143,\n",
              "          34.14      , -117.32      ],\n",
              "       ...,\n",
              "       [   5.3224    ,   17.        ,    6.10363392, ...,    2.10228802,\n",
              "          38.        , -121.36      ],\n",
              "       [   5.3363    ,   16.        ,    4.52912621, ...,    4.4538835 ,\n",
              "          37.32      , -121.84      ],\n",
              "       [   2.569     ,   10.        ,    4.70117955, ...,    1.83224115,\n",
              "          35.4       , -118.91      ]])"
            ]
          },
          "metadata": {
            "tags": []
          },
          "execution_count": 11
        }
      ]
    },
    {
      "cell_type": "markdown",
      "metadata": {
        "id": "_UQoU6Ae75N5"
      },
      "source": [
        "Scaling data"
      ]
    },
    {
      "cell_type": "code",
      "metadata": {
        "id": "a3gw6kRj71Ze"
      },
      "source": [
        "scaler=StandardScaler()"
      ],
      "execution_count": 12,
      "outputs": []
    },
    {
      "cell_type": "code",
      "metadata": {
        "id": "JSRI3Uxb8CpQ"
      },
      "source": [
        "X_train_scaled = scaler.fit_transform(X_train)\n",
        "X_valid_scaled = scaler.fit_transform(X_valid)\n",
        "X_test_scaled = scaler.fit_transform(X_test)\n"
      ],
      "execution_count": 13,
      "outputs": []
    },
    {
      "cell_type": "code",
      "metadata": {
        "colab": {
          "base_uri": "https://localhost:8080/"
        },
        "id": "SYp3a9FN8ZSY",
        "outputId": "c157ac37-9e6c-4d1e-ac2c-857c82046ab0"
      },
      "source": [
        "X_train_scaled"
      ],
      "execution_count": 14,
      "outputs": [
        {
          "output_type": "execute_result",
          "data": {
            "text/plain": [
              "array([[ 0.76957291,  0.58362319,  0.09873485, ...,  0.01677691,\n",
              "        -0.72512583,  0.80973284],\n",
              "       [-0.06848813,  0.26647553,  0.00707667, ...,  0.24346134,\n",
              "        -0.62638906,  0.56980453],\n",
              "       [-1.07082862,  0.26647553, -0.12768459, ...,  0.13612706,\n",
              "        -0.69221357,  1.11464175],\n",
              "       ...,\n",
              "       [ 0.75201833, -0.92282818,  0.28652655, ..., -0.09107635,\n",
              "         1.12266237, -0.90475493],\n",
              "       [ 0.75930217, -1.0021151 , -0.39013625, ...,  0.13859924,\n",
              "         0.80294329, -1.14468324],\n",
              "       [-0.6908112 , -1.47783658, -0.31619435, ..., -0.11745129,\n",
              "        -0.09979293,  0.3198792 ]])"
            ]
          },
          "metadata": {
            "tags": []
          },
          "execution_count": 14
        }
      ]
    },
    {
      "cell_type": "markdown",
      "metadata": {
        "id": "byl7tnS_8kYl"
      },
      "source": [
        "keras sequential model"
      ]
    },
    {
      "cell_type": "code",
      "metadata": {
        "id": "Ut5gdGaV8baT"
      },
      "source": [
        "tf.random.set_seed(1)\n",
        "model=keras.models.Sequential([\n",
        "                               keras.layers.Dense(30,activation='relu',input_shape=X_train.shape[1:]),\n",
        "                               keras.layers.Dense(30,activation='relu'),\n",
        "                               keras.layers.Dense(1)\n",
        "])"
      ],
      "execution_count": 15,
      "outputs": []
    },
    {
      "cell_type": "markdown",
      "metadata": {
        "id": "lxBBykzX9SpC"
      },
      "source": [
        "compile the model"
      ]
    },
    {
      "cell_type": "code",
      "metadata": {
        "id": "XfdOCgd59Prl"
      },
      "source": [
        "model.compile(optimizer='Adam',loss='mean_squared_error',metrics=['mse'])"
      ],
      "execution_count": 16,
      "outputs": []
    },
    {
      "cell_type": "markdown",
      "metadata": {
        "id": "c7K6_eaw9y_l"
      },
      "source": [
        "fit the model"
      ]
    },
    {
      "cell_type": "code",
      "metadata": {
        "colab": {
          "base_uri": "https://localhost:8080/"
        },
        "id": "uo_pPyjj9wPx",
        "outputId": "001f9c51-2caf-4726-fa76-51a7c9fba896"
      },
      "source": [
        "model.fit(X_train_scaled,y_train,epochs=50,validation_data=(X_valid_scaled,y_valid))"
      ],
      "execution_count": 21,
      "outputs": [
        {
          "output_type": "stream",
          "text": [
            "Epoch 1/50\n",
            "465/465 [==============================] - 1s 2ms/step - loss: 0.2635 - mse: 0.2635 - val_loss: 0.3085 - val_mse: 0.3085\n",
            "Epoch 2/50\n",
            "465/465 [==============================] - 1s 2ms/step - loss: 0.2644 - mse: 0.2644 - val_loss: 0.3022 - val_mse: 0.3022\n",
            "Epoch 3/50\n",
            "465/465 [==============================] - 1s 2ms/step - loss: 0.2638 - mse: 0.2638 - val_loss: 0.2985 - val_mse: 0.2985\n",
            "Epoch 4/50\n",
            "465/465 [==============================] - 1s 1ms/step - loss: 0.2628 - mse: 0.2628 - val_loss: 0.2979 - val_mse: 0.2979\n",
            "Epoch 5/50\n",
            "465/465 [==============================] - 1s 1ms/step - loss: 0.2615 - mse: 0.2615 - val_loss: 0.3018 - val_mse: 0.3018\n",
            "Epoch 6/50\n",
            "465/465 [==============================] - 1s 1ms/step - loss: 0.2633 - mse: 0.2633 - val_loss: 0.3016 - val_mse: 0.3016\n",
            "Epoch 7/50\n",
            "465/465 [==============================] - 1s 2ms/step - loss: 0.2615 - mse: 0.2615 - val_loss: 0.2959 - val_mse: 0.2959\n",
            "Epoch 8/50\n",
            "465/465 [==============================] - 1s 1ms/step - loss: 0.2615 - mse: 0.2615 - val_loss: 0.2898 - val_mse: 0.2898\n",
            "Epoch 9/50\n",
            "465/465 [==============================] - 1s 1ms/step - loss: 0.2607 - mse: 0.2607 - val_loss: 0.3031 - val_mse: 0.3031\n",
            "Epoch 10/50\n",
            "465/465 [==============================] - 1s 1ms/step - loss: 0.2588 - mse: 0.2588 - val_loss: 0.3240 - val_mse: 0.3240\n",
            "Epoch 11/50\n",
            "465/465 [==============================] - 1s 1ms/step - loss: 0.2593 - mse: 0.2593 - val_loss: 0.2899 - val_mse: 0.2899\n",
            "Epoch 12/50\n",
            "465/465 [==============================] - 1s 1ms/step - loss: 0.2589 - mse: 0.2589 - val_loss: 0.2936 - val_mse: 0.2936\n",
            "Epoch 13/50\n",
            "465/465 [==============================] - 1s 1ms/step - loss: 0.2580 - mse: 0.2580 - val_loss: 0.3024 - val_mse: 0.3024\n",
            "Epoch 14/50\n",
            "465/465 [==============================] - 1s 1ms/step - loss: 0.2598 - mse: 0.2598 - val_loss: 0.2947 - val_mse: 0.2947\n",
            "Epoch 15/50\n",
            "465/465 [==============================] - 1s 1ms/step - loss: 0.2583 - mse: 0.2583 - val_loss: 0.2949 - val_mse: 0.2949\n",
            "Epoch 16/50\n",
            "465/465 [==============================] - 1s 1ms/step - loss: 0.2568 - mse: 0.2568 - val_loss: 0.2905 - val_mse: 0.2905\n",
            "Epoch 17/50\n",
            "465/465 [==============================] - 1s 1ms/step - loss: 0.2560 - mse: 0.2560 - val_loss: 0.2957 - val_mse: 0.2957\n",
            "Epoch 18/50\n",
            "465/465 [==============================] - 1s 1ms/step - loss: 0.2554 - mse: 0.2554 - val_loss: 0.2918 - val_mse: 0.2918\n",
            "Epoch 19/50\n",
            "465/465 [==============================] - 1s 1ms/step - loss: 0.2558 - mse: 0.2558 - val_loss: 0.2952 - val_mse: 0.2952\n",
            "Epoch 20/50\n",
            "465/465 [==============================] - 1s 1ms/step - loss: 0.2544 - mse: 0.2544 - val_loss: 0.3138 - val_mse: 0.3138\n",
            "Epoch 21/50\n",
            "465/465 [==============================] - 1s 2ms/step - loss: 0.2555 - mse: 0.2555 - val_loss: 0.2868 - val_mse: 0.2868\n",
            "Epoch 22/50\n",
            "465/465 [==============================] - 1s 2ms/step - loss: 0.2544 - mse: 0.2544 - val_loss: 0.2876 - val_mse: 0.2876\n",
            "Epoch 23/50\n",
            "465/465 [==============================] - 1s 2ms/step - loss: 0.2546 - mse: 0.2546 - val_loss: 0.3151 - val_mse: 0.3151\n",
            "Epoch 24/50\n",
            "465/465 [==============================] - 1s 1ms/step - loss: 0.2546 - mse: 0.2546 - val_loss: 0.2858 - val_mse: 0.2858\n",
            "Epoch 25/50\n",
            "465/465 [==============================] - 1s 2ms/step - loss: 0.2535 - mse: 0.2535 - val_loss: 0.2933 - val_mse: 0.2933\n",
            "Epoch 26/50\n",
            "465/465 [==============================] - 1s 1ms/step - loss: 0.2554 - mse: 0.2554 - val_loss: 0.2892 - val_mse: 0.2892\n",
            "Epoch 27/50\n",
            "465/465 [==============================] - 1s 1ms/step - loss: 0.2516 - mse: 0.2516 - val_loss: 0.2928 - val_mse: 0.2928\n",
            "Epoch 28/50\n",
            "465/465 [==============================] - 1s 2ms/step - loss: 0.2534 - mse: 0.2534 - val_loss: 0.2915 - val_mse: 0.2915\n",
            "Epoch 29/50\n",
            "465/465 [==============================] - 1s 2ms/step - loss: 0.2511 - mse: 0.2511 - val_loss: 0.2888 - val_mse: 0.2888\n",
            "Epoch 30/50\n",
            "465/465 [==============================] - 1s 2ms/step - loss: 0.2507 - mse: 0.2507 - val_loss: 0.2988 - val_mse: 0.2988\n",
            "Epoch 31/50\n",
            "465/465 [==============================] - 1s 1ms/step - loss: 0.2506 - mse: 0.2506 - val_loss: 0.2944 - val_mse: 0.2944\n",
            "Epoch 32/50\n",
            "465/465 [==============================] - 1s 1ms/step - loss: 0.2518 - mse: 0.2518 - val_loss: 0.2942 - val_mse: 0.2942\n",
            "Epoch 33/50\n",
            "465/465 [==============================] - 1s 1ms/step - loss: 0.2504 - mse: 0.2504 - val_loss: 0.2963 - val_mse: 0.2963\n",
            "Epoch 34/50\n",
            "465/465 [==============================] - 1s 1ms/step - loss: 0.2517 - mse: 0.2517 - val_loss: 0.2933 - val_mse: 0.2933\n",
            "Epoch 35/50\n",
            "465/465 [==============================] - 1s 1ms/step - loss: 0.2494 - mse: 0.2494 - val_loss: 0.2909 - val_mse: 0.2909\n",
            "Epoch 36/50\n",
            "465/465 [==============================] - 1s 1ms/step - loss: 0.2496 - mse: 0.2496 - val_loss: 0.3050 - val_mse: 0.3050\n",
            "Epoch 37/50\n",
            "465/465 [==============================] - 1s 2ms/step - loss: 0.2519 - mse: 0.2519 - val_loss: 0.2872 - val_mse: 0.2872\n",
            "Epoch 38/50\n",
            "465/465 [==============================] - 1s 1ms/step - loss: 0.2483 - mse: 0.2483 - val_loss: 0.2951 - val_mse: 0.2951\n",
            "Epoch 39/50\n",
            "465/465 [==============================] - 1s 1ms/step - loss: 0.2483 - mse: 0.2483 - val_loss: 0.2939 - val_mse: 0.2939\n",
            "Epoch 40/50\n",
            "465/465 [==============================] - 1s 1ms/step - loss: 0.2494 - mse: 0.2494 - val_loss: 0.2905 - val_mse: 0.2905\n",
            "Epoch 41/50\n",
            "465/465 [==============================] - 1s 1ms/step - loss: 0.2475 - mse: 0.2475 - val_loss: 0.2899 - val_mse: 0.2899\n",
            "Epoch 42/50\n",
            "465/465 [==============================] - 1s 1ms/step - loss: 0.2466 - mse: 0.2466 - val_loss: 0.2886 - val_mse: 0.2886\n",
            "Epoch 43/50\n",
            "465/465 [==============================] - 1s 1ms/step - loss: 0.2475 - mse: 0.2475 - val_loss: 0.2929 - val_mse: 0.2929\n",
            "Epoch 44/50\n",
            "465/465 [==============================] - 1s 2ms/step - loss: 0.2492 - mse: 0.2492 - val_loss: 0.2926 - val_mse: 0.2926\n",
            "Epoch 45/50\n",
            "465/465 [==============================] - 1s 2ms/step - loss: 0.2483 - mse: 0.2483 - val_loss: 0.2872 - val_mse: 0.2872\n",
            "Epoch 46/50\n",
            "465/465 [==============================] - 1s 2ms/step - loss: 0.2468 - mse: 0.2468 - val_loss: 0.2971 - val_mse: 0.2971\n",
            "Epoch 47/50\n",
            "465/465 [==============================] - 1s 2ms/step - loss: 0.2452 - mse: 0.2452 - val_loss: 0.2929 - val_mse: 0.2929\n",
            "Epoch 48/50\n",
            "465/465 [==============================] - 1s 2ms/step - loss: 0.2451 - mse: 0.2451 - val_loss: 0.2974 - val_mse: 0.2974\n",
            "Epoch 49/50\n",
            "465/465 [==============================] - 1s 1ms/step - loss: 0.2458 - mse: 0.2458 - val_loss: 0.2814 - val_mse: 0.2814\n",
            "Epoch 50/50\n",
            "465/465 [==============================] - 1s 1ms/step - loss: 0.2469 - mse: 0.2469 - val_loss: 0.2870 - val_mse: 0.2870\n"
          ],
          "name": "stdout"
        },
        {
          "output_type": "execute_result",
          "data": {
            "text/plain": [
              "<tensorflow.python.keras.callbacks.History at 0x7f93662696d0>"
            ]
          },
          "metadata": {
            "tags": []
          },
          "execution_count": 21
        }
      ]
    },
    {
      "cell_type": "code",
      "metadata": {
        "colab": {
          "base_uri": "https://localhost:8080/"
        },
        "id": "IwYj81No-QRr",
        "outputId": "a63f7b25-cc6a-4811-c399-324e734263d0"
      },
      "source": [
        "model.summary()"
      ],
      "execution_count": 18,
      "outputs": [
        {
          "output_type": "stream",
          "text": [
            "Model: \"sequential\"\n",
            "_________________________________________________________________\n",
            "Layer (type)                 Output Shape              Param #   \n",
            "=================================================================\n",
            "dense (Dense)                (None, 30)                270       \n",
            "_________________________________________________________________\n",
            "dense_1 (Dense)              (None, 30)                930       \n",
            "_________________________________________________________________\n",
            "dense_2 (Dense)              (None, 1)                 31        \n",
            "=================================================================\n",
            "Total params: 1,231\n",
            "Trainable params: 1,231\n",
            "Non-trainable params: 0\n",
            "_________________________________________________________________\n"
          ],
          "name": "stdout"
        }
      ]
    },
    {
      "cell_type": "code",
      "metadata": {
        "colab": {
          "base_uri": "https://localhost:8080/"
        },
        "id": "PuiJV34eHj1Y",
        "outputId": "1782653e-53af-450a-a9da-c973386fee47"
      },
      "source": [
        "model.save(filepath='sajid')"
      ],
      "execution_count": null,
      "outputs": [
        {
          "output_type": "stream",
          "text": [
            "INFO:tensorflow:Assets written to: sajid/assets\n"
          ],
          "name": "stdout"
        }
      ]
    },
    {
      "cell_type": "code",
      "metadata": {
        "id": "FULIEQlnHxPU"
      },
      "source": [
        "from tensorflow.keras.utils import plot_model"
      ],
      "execution_count": 19,
      "outputs": []
    },
    {
      "cell_type": "code",
      "metadata": {
        "colab": {
          "base_uri": "https://localhost:8080/",
          "height": 422
        },
        "id": "AmSvFDvMk4PF",
        "outputId": "e70fec18-a2e1-4afe-ad7c-7d11af76cd05"
      },
      "source": [
        "plot_model(model,show_shapes=True)"
      ],
      "execution_count": 23,
      "outputs": [
        {
          "output_type": "execute_result",
          "data": {
            "image/png": "[encoded data removed]",
            "text/plain": [
              "<IPython.core.display.Image object>"
            ]
          },
          "metadata": {
            "tags": []
          },
          "execution_count": 23
        }
      ]
    },
    {
      "cell_type": "code",
      "metadata": {
        "id": "v_OsTDQjlKxp"
      },
      "source": [
        ""
      ],
      "execution_count": null,
      "outputs": []
    }
  ]
}